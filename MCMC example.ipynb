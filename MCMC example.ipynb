{
 "metadata": {
  "name": "",
  "signature": "sha256:996579a903afee10a18fc3a36f1783f839ba087afe7674194fbc649200efb9ab"
 },
 "nbformat": 3,
 "nbformat_minor": 0,
 "worksheets": [
  {
   "cells": [
    {
     "cell_type": "heading",
     "level": 1,
     "metadata": {},
     "source": [
      "A simple MCMC example"
     ]
    },
    {
     "cell_type": "markdown",
     "metadata": {},
     "source": [
      "Here we will set up a simple MCMC code to estimate the parameters of a straight line: $y=mx+c$.\n",
      "\n",
      "We will simulate some data containing a line with parameters $m=1$ and $c=2.5$, and Gaussian noise ($\\sim N(0, 2.5^2)$)."
     ]
    },
    {
     "cell_type": "code",
     "collapsed": false,
     "input": [
      "%matplotlib inline\n",
      "import matplotlib.pyplot as pl\n",
      "\n",
      "# import numpy\n",
      "import numpy as np\n",
      "\n",
      "# set the x-axis linearly spaced between 0 and 10 in 100 steps\n",
      "x = np.linspace(0, 10, 100)\n",
      "#x = np.linspace(-5,5,100)\n",
      "\n",
      "# create our simulate line\n",
      "m = 1.\n",
      "c = 2.5\n",
      "\n",
      "# a function defining our line model\n",
      "def linemodel(m,c,x):\n",
      "    return m*x + c\n",
      "    \n",
      "line = linemodel(m,c,x)\n",
      "\n",
      "# create some noise to add to our line\n",
      "sig = 2.5 #  the noise standard deviation\n",
      "noise = sig*np.random.randn(100)\n",
      "\n",
      "# create data\n",
      "y = line + noise\n",
      "\n",
      "# let's plot the data too\n",
      "pl.plot(x, y, 'bo', x, line, 'k--')"
     ],
     "language": "python",
     "metadata": {},
     "outputs": [
      {
       "metadata": {},
       "output_type": "pyout",
       "prompt_number": 1,
       "text": [
        "[<matplotlib.lines.Line2D at 0x7fe161cd4990>,\n",
        " <matplotlib.lines.Line2D at 0x7fe161cd4c10>]"
       ]
      },
      {
       "metadata": {},
       "output_type": "display_data",
       "png": "[encoded data removed]",
       "text": [
        "<matplotlib.figure.Figure at 0x7fe17c5cc9d0>"
       ]
      }
     ],
     "prompt_number": 1
    },
    {
     "cell_type": "markdown",
     "metadata": {},
     "source": [
      "Now we need to define our likelihood function. The noise in the data is Gaussian, so we can use a Gaussian likelihood function. Due to numerical precision issues we will work with natural logarithms of the likelihood function (the likelihood value could become very, very small).\n",
      "\n",
      "Note that in the likelihood function we do not include the normalisation factor of the Gaussian distribution. This is because the MCMC just works with probability ratios, so the normalisation would cancel out."
     ]
    },
    {
     "cell_type": "code",
     "collapsed": false,
     "input": [
      "# a Gaussian likelihood function given some data and a model for that data,\n",
      "# and a known noise standard deviation sigma \n",
      "def loglikelihood(data, model, sigma):\n",
      "    return -np.sum((data-model)**2)/(2.*sigma**2)"
     ],
     "language": "python",
     "metadata": {},
     "outputs": [],
     "prompt_number": 2
    },
    {
     "cell_type": "markdown",
     "metadata": {},
     "source": [
      "Now we need to define our priors on the parameters $m$ and $c$. We will use flat priors for both parameters over a given range, such that:\n",
      "\\\\[\n",
      "p(m|I) = \\begin{cases} 1/10, -5 \\le m \\le 5 \\\\ 0~{\\rm otherwise} \\end{cases}\n",
      "\\\\]\n",
      "and\n",
      "\\\\[\n",
      "p(c|I) = \\begin{cases} 1/20, -10 \\le c \\le 10 \\\\ 0~{\\rm otherwise} \\end{cases}\n",
      "\\\\]\n",
      "Note that in the MCMC below we will just use the extent of these prior ranges rather than the actual values, as (again) we are just interested in probability ratios, so these (flat) prior values would just cancel. If not using flat priors then they may need to be included in forming the posterior probability ratio."
     ]
    },
    {
     "cell_type": "code",
     "collapsed": false,
     "input": [
      "ranges = [[-5., 5.], # the range of allowed values for m\n",
      "          [-10., 10.]] # the range of allowed values for c\n",
      "\n",
      "# create a function that is true if a point is within the above ranges\n",
      "def priorfunc(sample):\n",
      "    for i in range(len(sample)):\n",
      "        if sample[i] <= ranges[i][0] or sample[i] >= ranges[i][1]:\n",
      "            return 0\n",
      "    \n",
      "    return 1"
     ],
     "language": "python",
     "metadata": {},
     "outputs": [],
     "prompt_number": 3
    },
    {
     "cell_type": "markdown",
     "metadata": {},
     "source": [
      "We now set up some parameters for the MCMC:\n",
      "* the number of burn-in points (samples in the MCMC that we will discard assuming the chain has not converged)\n",
      "* the number of samples used to sample the posterior pdf\n",
      "* the proposal distribution for $m$ and $c$\n",
      "    * this will be a multi-variate Gaussian pdf with covariance matrix refined during burn-in\n",
      "* an initial start point for $m$ and $c$ drawn at random from within there allow ranges"
     ]
    },
    {
     "cell_type": "code",
     "collapsed": false,
     "input": [
      "# the number of burn-in points\n",
      "Nb = 50000\n",
      "\n",
      "# the number of sample points\n",
      "Ns = 50000\n",
      "\n",
      "# the total number of points\n",
      "N = Nb + Ns\n",
      "\n",
      "# initial proposal widths for m and c (use a best guess!)\n",
      "cov = [[1., 0.], [0., 1.]] # initial covariance matrix of proposal (uncorrelated)\n",
      "propscale = 2.5 # a scale factor for the proposal covariance (to try and get an acceptance probability of ~40%)\n",
      "\n",
      "# set the number point to use in recalculating the proposal width during burn-in\n",
      "Nprop = 1000\n",
      "\n",
      "# create a random sample start point\n",
      "samples = [[ranges[0][0] + np.diff(ranges[0])[0]*np.random.rand(), ranges[1][0] + np.diff(ranges[1])[0]*np.random.rand()]]\n",
      "\n",
      "# get the log likelihood for this point\n",
      "logl = [loglikelihood(y, linemodel(samples[0][0], samples[0][1], x), sig)]\n",
      "\n",
      "# a counter to see the acceptance ratio as the MCMC progresses\n",
      "acc = 0"
     ],
     "language": "python",
     "metadata": {},
     "outputs": [],
     "prompt_number": 4
    },
    {
     "cell_type": "markdown",
     "metadata": {},
     "source": [
      "Now we'll start our MCMC! for our Metropolis-Hastings ratio that determines acceptance of a new point (where the ratio of proposal probabilities is 1 as we are using symmetric proposals)."
     ]
    },
    {
     "cell_type": "code",
     "collapsed": false,
     "input": [
      "# use a for loop to run the MCMC\n",
      "for i in range(1, N):\n",
      "    # sample a new point in m and c from the proposal distribution\n",
      "    newsample = np.random.multivariate_normal(samples[i-1], cov)\n",
      "    \n",
      "    # check if the point is within the prior range\n",
      "    if not priorfunc(newsample):\n",
      "        # reject the new point (i.e. add the current point on to the chain)\n",
      "        samples.append(samples[i-1])\n",
      "        logl.append(logl[i-1])\n",
      "        continue\n",
      "    \n",
      "    # get the log likelihood of the new point\n",
      "    loglnew = loglikelihood(y, linemodel(newsample[0], newsample[1], x), sig)\n",
      "    \n",
      "    # get the Metropolis-Hastings ratio (the ratio of proposals will just be 1)\n",
      "    logr = loglnew - logl[i-1] # note in log space the ratio is a difference\n",
      "    \n",
      "    # accept if the ratio is greater than 1, otherwise accept with probabiliy r\n",
      "    # in log-space this means accept if logr greater than 0\n",
      "    if logr > np.log(np.random.rand()):\n",
      "        # accepted!\n",
      "        acc = acc + 1\n",
      "        \n",
      "        # add new sample onto chain\n",
      "        samples.append(list(newsample))\n",
      "        logl.append(loglnew)\n",
      "    else:\n",
      "        # rejected!\n",
      "        # add current sample onto chain\n",
      "        samples.append(samples[i-1])\n",
      "        logl.append(logl[i-1])\n",
      "\n",
      "    #  print out current acceptance probability every Nprop points\n",
      "    if i%Nprop == 0:\n",
      "        print('Num. accepted %d, acceptance probability = %.2f' % (acc, acc/float(Nprop)))\n",
      "        acc = 0 # reset counter\n",
      "        \n",
      "    # every Nprop points during burn-in recalculate the covariance matrix using the last\n",
      "    # Nprop points\n",
      "    if i < Nb and i%Nprop == 0:\n",
      "        cov = propscale*np.cov(np.array(samples[-Nprop:]).T)"
     ],
     "language": "python",
     "metadata": {},
     "outputs": [
      {
       "output_type": "stream",
       "stream": "stdout",
       "text": [
        "Num. accepted 31, acceptance probability = 0.03\n",
        "Num. accepted 53, acceptance probability = 0.05"
       ]
      },
      {
       "output_type": "stream",
       "stream": "stdout",
       "text": [
        "\n",
        "Num. accepted 370, acceptance probability = 0.37"
       ]
      },
      {
       "output_type": "stream",
       "stream": "stdout",
       "text": [
        "\n",
        "Num. accepted 410, acceptance probability = 0.41"
       ]
      },
      {
       "output_type": "stream",
       "stream": "stdout",
       "text": [
        "\n",
        "Num. accepted 403, acceptance probability = 0.40"
       ]
      },
      {
       "output_type": "stream",
       "stream": "stdout",
       "text": [
        "\n",
        "Num. accepted 397, acceptance probability = 0.40"
       ]
      },
      {
       "output_type": "stream",
       "stream": "stdout",
       "text": [
        "\n",
        "Num. accepted 364, acceptance probability = 0.36"
       ]
      },
      {
       "output_type": "stream",
       "stream": "stdout",
       "text": [
        "\n",
        "Num. accepted 398, acceptance probability = 0.40"
       ]
      },
      {
       "output_type": "stream",
       "stream": "stdout",
       "text": [
        "\n",
        "Num. accepted 395, acceptance probability = 0.40"
       ]
      },
      {
       "output_type": "stream",
       "stream": "stdout",
       "text": [
        "\n",
        "Num. accepted 383, acceptance probability = 0.38"
       ]
      },
      {
       "output_type": "stream",
       "stream": "stdout",
       "text": [
        "\n",
        "Num. accepted 349, acceptance probability = 0.35"
       ]
      },
      {
       "output_type": "stream",
       "stream": "stdout",
       "text": [
        "\n",
        "Num. accepted 378, acceptance probability = 0.38"
       ]
      },
      {
       "output_type": "stream",
       "stream": "stdout",
       "text": [
        "\n",
        "Num. accepted 389, acceptance probability = 0.39"
       ]
      },
      {
       "output_type": "stream",
       "stream": "stdout",
       "text": [
        "\n",
        "Num. accepted 369, acceptance probability = 0.37"
       ]
      },
      {
       "output_type": "stream",
       "stream": "stdout",
       "text": [
        "\n",
        "Num. accepted 395, acceptance probability = 0.40"
       ]
      },
      {
       "output_type": "stream",
       "stream": "stdout",
       "text": [
        "\n",
        "Num. accepted 381, acceptance probability = 0.38"
       ]
      },
      {
       "output_type": "stream",
       "stream": "stdout",
       "text": [
        "\n",
        "Num. accepted 380, acceptance probability = 0.38"
       ]
      },
      {
       "output_type": "stream",
       "stream": "stdout",
       "text": [
        "\n",
        "Num. accepted 383, acceptance probability = 0.38"
       ]
      },
      {
       "output_type": "stream",
       "stream": "stdout",
       "text": [
        "\n",
        "Num. accepted 382, acceptance probability = 0.38"
       ]
      },
      {
       "output_type": "stream",
       "stream": "stdout",
       "text": [
        "\n",
        "Num. accepted 407, acceptance probability = 0.41"
       ]
      },
      {
       "output_type": "stream",
       "stream": "stdout",
       "text": [
        "\n",
        "Num. accepted 354, acceptance probability = 0.35"
       ]
      },
      {
       "output_type": "stream",
       "stream": "stdout",
       "text": [
        "\n",
        "Num. accepted 376, acceptance probability = 0.38"
       ]
      },
      {
       "output_type": "stream",
       "stream": "stdout",
       "text": [
        "\n",
        "Num. accepted 405, acceptance probability = 0.41"
       ]
      },
      {
       "output_type": "stream",
       "stream": "stdout",
       "text": [
        "\n",
        "Num. accepted 370, acceptance probability = 0.37"
       ]
      },
      {
       "output_type": "stream",
       "stream": "stdout",
       "text": [
        "\n",
        "Num. accepted 374, acceptance probability = 0.37"
       ]
      },
      {
       "output_type": "stream",
       "stream": "stdout",
       "text": [
        "\n",
        "Num. accepted 345, acceptance probability = 0.34"
       ]
      },
      {
       "output_type": "stream",
       "stream": "stdout",
       "text": [
        "\n",
        "Num. accepted 381, acceptance probability = 0.38"
       ]
      },
      {
       "output_type": "stream",
       "stream": "stdout",
       "text": [
        "\n",
        "Num. accepted 371, acceptance probability = 0.37"
       ]
      },
      {
       "output_type": "stream",
       "stream": "stdout",
       "text": [
        "\n",
        "Num. accepted 388, acceptance probability = 0.39"
       ]
      },
      {
       "output_type": "stream",
       "stream": "stdout",
       "text": [
        "\n",
        "Num. accepted 405, acceptance probability = 0.41"
       ]
      },
      {
       "output_type": "stream",
       "stream": "stdout",
       "text": [
        "\n",
        "Num. accepted 390, acceptance probability = 0.39"
       ]
      },
      {
       "output_type": "stream",
       "stream": "stdout",
       "text": [
        "\n",
        "Num. accepted 363, acceptance probability = 0.36"
       ]
      },
      {
       "output_type": "stream",
       "stream": "stdout",
       "text": [
        "\n",
        "Num. accepted 374, acceptance probability = 0.37"
       ]
      },
      {
       "output_type": "stream",
       "stream": "stdout",
       "text": [
        "\n",
        "Num. accepted 393, acceptance probability = 0.39"
       ]
      },
      {
       "output_type": "stream",
       "stream": "stdout",
       "text": [
        "\n",
        "Num. accepted 357, acceptance probability = 0.36"
       ]
      },
      {
       "output_type": "stream",
       "stream": "stdout",
       "text": [
        "\n",
        "Num. accepted 397, acceptance probability = 0.40"
       ]
      },
      {
       "output_type": "stream",
       "stream": "stdout",
       "text": [
        "\n",
        "Num. accepted 373, acceptance probability = 0.37"
       ]
      },
      {
       "output_type": "stream",
       "stream": "stdout",
       "text": [
        "\n",
        "Num. accepted 370, acceptance probability = 0.37"
       ]
      },
      {
       "output_type": "stream",
       "stream": "stdout",
       "text": [
        "\n",
        "Num. accepted 400, acceptance probability = 0.40"
       ]
      },
      {
       "output_type": "stream",
       "stream": "stdout",
       "text": [
        "\n",
        "Num. accepted 321, acceptance probability = 0.32"
       ]
      },
      {
       "output_type": "stream",
       "stream": "stdout",
       "text": [
        "\n",
        "Num. accepted 400, acceptance probability = 0.40"
       ]
      },
      {
       "output_type": "stream",
       "stream": "stdout",
       "text": [
        "\n",
        "Num. accepted 396, acceptance probability = 0.40"
       ]
      },
      {
       "output_type": "stream",
       "stream": "stdout",
       "text": [
        "\n",
        "Num. accepted 369, acceptance probability = 0.37"
       ]
      },
      {
       "output_type": "stream",
       "stream": "stdout",
       "text": [
        "\n",
        "Num. accepted 388, acceptance probability = 0.39"
       ]
      },
      {
       "output_type": "stream",
       "stream": "stdout",
       "text": [
        "\n",
        "Num. accepted 343, acceptance probability = 0.34"
       ]
      },
      {
       "output_type": "stream",
       "stream": "stdout",
       "text": [
        "\n",
        "Num. accepted 413, acceptance probability = 0.41"
       ]
      },
      {
       "output_type": "stream",
       "stream": "stdout",
       "text": [
        "\n",
        "Num. accepted 427, acceptance probability = 0.43"
       ]
      },
      {
       "output_type": "stream",
       "stream": "stdout",
       "text": [
        "\n",
        "Num. accepted 326, acceptance probability = 0.33"
       ]
      },
      {
       "output_type": "stream",
       "stream": "stdout",
       "text": [
        "\n",
        "Num. accepted 371, acceptance probability = 0.37"
       ]
      },
      {
       "output_type": "stream",
       "stream": "stdout",
       "text": [
        "\n",
        "Num. accepted 368, acceptance probability = 0.37"
       ]
      },
      {
       "output_type": "stream",
       "stream": "stdout",
       "text": [
        "\n",
        "Num. accepted 365, acceptance probability = 0.36"
       ]
      },
      {
       "output_type": "stream",
       "stream": "stdout",
       "text": [
        "\n",
        "Num. accepted 361, acceptance probability = 0.36"
       ]
      },
      {
       "output_type": "stream",
       "stream": "stdout",
       "text": [
        "\n",
        "Num. accepted 380, acceptance probability = 0.38"
       ]
      },
      {
       "output_type": "stream",
       "stream": "stdout",
       "text": [
        "\n",
        "Num. accepted 364, acceptance probability = 0.36"
       ]
      },
      {
       "output_type": "stream",
       "stream": "stdout",
       "text": [
        "\n",
        "Num. accepted 366, acceptance probability = 0.37"
       ]
      },
      {
       "output_type": "stream",
       "stream": "stdout",
       "text": [
        "\n",
        "Num. accepted 361, acceptance probability = 0.36"
       ]
      },
      {
       "output_type": "stream",
       "stream": "stdout",
       "text": [
        "\n",
        "Num. accepted 404, acceptance probability = 0.40"
       ]
      },
      {
       "output_type": "stream",
       "stream": "stdout",
       "text": [
        "\n",
        "Num. accepted 373, acceptance probability = 0.37"
       ]
      },
      {
       "output_type": "stream",
       "stream": "stdout",
       "text": [
        "\n",
        "Num. accepted 373, acceptance probability = 0.37"
       ]
      },
      {
       "output_type": "stream",
       "stream": "stdout",
       "text": [
        "\n",
        "Num. accepted 338, acceptance probability = 0.34"
       ]
      },
      {
       "output_type": "stream",
       "stream": "stdout",
       "text": [
        "\n",
        "Num. accepted 368, acceptance probability = 0.37"
       ]
      },
      {
       "output_type": "stream",
       "stream": "stdout",
       "text": [
        "\n",
        "Num. accepted 386, acceptance probability = 0.39"
       ]
      },
      {
       "output_type": "stream",
       "stream": "stdout",
       "text": [
        "\n",
        "Num. accepted 374, acceptance probability = 0.37"
       ]
      },
      {
       "output_type": "stream",
       "stream": "stdout",
       "text": [
        "\n",
        "Num. accepted 381, acceptance probability = 0.38"
       ]
      },
      {
       "output_type": "stream",
       "stream": "stdout",
       "text": [
        "\n",
        "Num. accepted 357, acceptance probability = 0.36"
       ]
      },
      {
       "output_type": "stream",
       "stream": "stdout",
       "text": [
        "\n",
        "Num. accepted 388, acceptance probability = 0.39"
       ]
      },
      {
       "output_type": "stream",
       "stream": "stdout",
       "text": [
        "\n",
        "Num. accepted 393, acceptance probability = 0.39"
       ]
      },
      {
       "output_type": "stream",
       "stream": "stdout",
       "text": [
        "\n",
        "Num. accepted 375, acceptance probability = 0.38"
       ]
      },
      {
       "output_type": "stream",
       "stream": "stdout",
       "text": [
        "\n",
        "Num. accepted 397, acceptance probability = 0.40"
       ]
      },
      {
       "output_type": "stream",
       "stream": "stdout",
       "text": [
        "\n",
        "Num. accepted 360, acceptance probability = 0.36"
       ]
      },
      {
       "output_type": "stream",
       "stream": "stdout",
       "text": [
        "\n",
        "Num. accepted 357, acceptance probability = 0.36"
       ]
      },
      {
       "output_type": "stream",
       "stream": "stdout",
       "text": [
        "\n",
        "Num. accepted 379, acceptance probability = 0.38"
       ]
      },
      {
       "output_type": "stream",
       "stream": "stdout",
       "text": [
        "\n",
        "Num. accepted 360, acceptance probability = 0.36"
       ]
      },
      {
       "output_type": "stream",
       "stream": "stdout",
       "text": [
        "\n",
        "Num. accepted 378, acceptance probability = 0.38"
       ]
      },
      {
       "output_type": "stream",
       "stream": "stdout",
       "text": [
        "\n",
        "Num. accepted 384, acceptance probability = 0.38"
       ]
      },
      {
       "output_type": "stream",
       "stream": "stdout",
       "text": [
        "\n",
        "Num. accepted 361, acceptance probability = 0.36"
       ]
      },
      {
       "output_type": "stream",
       "stream": "stdout",
       "text": [
        "\n",
        "Num. accepted 360, acceptance probability = 0.36"
       ]
      },
      {
       "output_type": "stream",
       "stream": "stdout",
       "text": [
        "\n",
        "Num. accepted 370, acceptance probability = 0.37"
       ]
      },
      {
       "output_type": "stream",
       "stream": "stdout",
       "text": [
        "\n",
        "Num. accepted 345, acceptance probability = 0.34"
       ]
      },
      {
       "output_type": "stream",
       "stream": "stdout",
       "text": [
        "\n",
        "Num. accepted 396, acceptance probability = 0.40"
       ]
      },
      {
       "output_type": "stream",
       "stream": "stdout",
       "text": [
        "\n",
        "Num. accepted 376, acceptance probability = 0.38"
       ]
      },
      {
       "output_type": "stream",
       "stream": "stdout",
       "text": [
        "\n",
        "Num. accepted 367, acceptance probability = 0.37"
       ]
      },
      {
       "output_type": "stream",
       "stream": "stdout",
       "text": [
        "\n",
        "Num. accepted 395, acceptance probability = 0.40"
       ]
      },
      {
       "output_type": "stream",
       "stream": "stdout",
       "text": [
        "\n",
        "Num. accepted 362, acceptance probability = 0.36"
       ]
      },
      {
       "output_type": "stream",
       "stream": "stdout",
       "text": [
        "\n",
        "Num. accepted 370, acceptance probability = 0.37"
       ]
      },
      {
       "output_type": "stream",
       "stream": "stdout",
       "text": [
        "\n",
        "Num. accepted 384, acceptance probability = 0.38"
       ]
      },
      {
       "output_type": "stream",
       "stream": "stdout",
       "text": [
        "\n",
        "Num. accepted 364, acceptance probability = 0.36"
       ]
      },
      {
       "output_type": "stream",
       "stream": "stdout",
       "text": [
        "\n",
        "Num. accepted 361, acceptance probability = 0.36"
       ]
      },
      {
       "output_type": "stream",
       "stream": "stdout",
       "text": [
        "\n",
        "Num. accepted 380, acceptance probability = 0.38"
       ]
      },
      {
       "output_type": "stream",
       "stream": "stdout",
       "text": [
        "\n",
        "Num. accepted 394, acceptance probability = 0.39"
       ]
      },
      {
       "output_type": "stream",
       "stream": "stdout",
       "text": [
        "\n",
        "Num. accepted 380, acceptance probability = 0.38"
       ]
      },
      {
       "output_type": "stream",
       "stream": "stdout",
       "text": [
        "\n",
        "Num. accepted 386, acceptance probability = 0.39"
       ]
      },
      {
       "output_type": "stream",
       "stream": "stdout",
       "text": [
        "\n",
        "Num. accepted 340, acceptance probability = 0.34"
       ]
      },
      {
       "output_type": "stream",
       "stream": "stdout",
       "text": [
        "\n",
        "Num. accepted 350, acceptance probability = 0.35"
       ]
      },
      {
       "output_type": "stream",
       "stream": "stdout",
       "text": [
        "\n",
        "Num. accepted 370, acceptance probability = 0.37"
       ]
      },
      {
       "output_type": "stream",
       "stream": "stdout",
       "text": [
        "\n",
        "Num. accepted 376, acceptance probability = 0.38"
       ]
      },
      {
       "output_type": "stream",
       "stream": "stdout",
       "text": [
        "\n",
        "Num. accepted 368, acceptance probability = 0.37"
       ]
      },
      {
       "output_type": "stream",
       "stream": "stdout",
       "text": [
        "\n",
        "Num. accepted 377, acceptance probability = 0.38"
       ]
      },
      {
       "output_type": "stream",
       "stream": "stdout",
       "text": [
        "\n",
        "Num. accepted 377, acceptance probability = 0.38"
       ]
      },
      {
       "output_type": "stream",
       "stream": "stdout",
       "text": [
        "\n"
       ]
      }
     ],
     "prompt_number": 5
    },
    {
     "cell_type": "heading",
     "level": 2,
     "metadata": {},
     "source": [
      "Plotting the output"
     ]
    },
    {
     "cell_type": "markdown",
     "metadata": {},
     "source": [
      "Now plot the output chains, making sure to not include the burn-in points. (A nice python module for this is [triangle.py](https://github.com/dfm/triangle.py)). On the plot we'll include the parameters of the line that we simulated and the maximum posterior value that we recover from our joint pdf."
     ]
    },
    {
     "cell_type": "code",
     "collapsed": false,
     "input": [
      "fig = pl.figure(figsize=(8,7), dpi=150)\n",
      "\n",
      "# convert samples list into numpy array\n",
      "nsamples = np.array(samples)\n",
      "\n",
      "# get the maximum of the m posterior\n",
      "imax = np.argmax(logl)\n",
      "\n",
      "# plot the marginalised posterior of m, p(m|d,I)\n",
      "pl.subplot(2,2,1)\n",
      "pl.hist(nsamples[-Ns:,0], bins=20, normed=True, histtype='stepfilled', alpha=0.3)\n",
      "ax = pl.gca()\n",
      "pl.plot([m, m], [0., ax.get_ylim()[1]], 'k--', lw=2, label='True') # plot true value of m\n",
      "pl.plot([nsamples[imax,0], nsamples[imax,0]], [0., ax.get_ylim()[1]], 'g--', lw=2, label='Max. pdf') # plot maximum posterior value\n",
      "pl.legend(loc='best', fancybox=True, framealpha=0.3, prop={'size': 14})\n",
      "pl.xlabel('$m$', fontsize=16)\n",
      "pl.ylabel('$p(m|d,I)$', fontsize=16)\n",
      "\n",
      "# plot the marginalised posterior of c, p(c|d,I)\n",
      "pl.subplot(2,2,4)\n",
      "pl.hist(nsamples[-Ns:,1], bins=20, normed=True, histtype='stepfilled', alpha=0.3)\n",
      "ax = pl.gca()\n",
      "pl.plot([c, c], [0., ax.get_ylim()[1]], 'k--', lw=2) # plot true value of c\n",
      "pl.plot([nsamples[imax,1], nsamples[imax,1]], [0., ax.get_ylim()[1]], 'g--', lw=2) # plot maximum posterior value\n",
      "pl.xlabel('$c$', fontsize=16)\n",
      "pl.ylabel('$p(c|d,I)$', fontsize=16)\n",
      "\n",
      "# plot the joint posterior of m and c, p(m,c|d,I) (just use the samples, athough you could create a contour plot)\n",
      "pl.subplot(2,2,3)\n",
      "pl.plot(nsamples[-Ns:,0], nsamples[-Ns:,1], 'b.', ms=1, alpha=0.1)\n",
      "pl.xlabel('$m$', fontsize=16)\n",
      "pl.ylabel('$c$', fontsize=16)\n",
      "pl.tight_layout()"
     ],
     "language": "python",
     "metadata": {},
     "outputs": [
      {
       "metadata": {},
       "output_type": "display_data",
       "png": "[encoded data removed]",
       "text": [
        "<matplotlib.figure.Figure at 0x7fe161d51d90>"
       ]
      }
     ],
     "prompt_number": 6
    },
    {
     "cell_type": "heading",
     "level": 3,
     "metadata": {},
     "source": [
      "Comparison with least squares fit"
     ]
    },
    {
     "cell_type": "markdown",
     "metadata": {},
     "source": [
      "Compare these maximum posterior values, and the covariance of the parameters, with a standard least squares fit output."
     ]
    },
    {
     "cell_type": "code",
     "collapsed": false,
     "input": [
      "# get the least squares fit values for m and c\n",
      "mfit, cfit = np.linalg.lstsq(np.vstack([x, np.ones(len(x))]).T, y)[0]\n",
      "\n",
      "print('Maximum posterior: m = %.2f, c = %.2f' % (nsamples[imax,0], nsamples[imax,1]))\n",
      "print('Least squares fit: m = %.2f, c = %.2f' % (mfit, cfit))\n",
      "\n",
      "# least squares (co)variance\n",
      "denom = (len(x)*np.sum(x**2)-np.sum(x)**2)\n",
      "lsmvar = sig**2*len(x)/denom\n",
      "lscvar = sig**2*np.sum(x**2)/denom\n",
      "lscov = -sig**2*np.sum(x)/denom\n",
      "\n",
      "# covariance from MCMC posterior\n",
      "mcmccov = np.cov(nsamples[-Ns:].T)\n",
      "\n",
      "print('var[m] = %.2f, var[c] = %.2f, cov[m,c] = %.2f' % (mcmccov[0,0], mcmccov[1,1], mcmccov[0,1]))\n",
      "print('Least squares: var[m] = %.2f, var[c] = %.2f, cov[m,c] = %.2f' % (lsmvar, lscvar, lscov))"
     ],
     "language": "python",
     "metadata": {},
     "outputs": [
      {
       "output_type": "stream",
       "stream": "stdout",
       "text": [
        "Maximum posterior: m = 1.04, c = 2.38\n",
        "Least squares fit: m = 1.04, c = 2.38\n",
        "var[m] = 0.01, var[c] = 0.24, cov[m,c] = -0.04\n",
        "Least squares: var[m] = 0.01, var[c] = 0.25, cov[m,c] = -0.04\n"
       ]
      }
     ],
     "prompt_number": 8
    },
    {
     "cell_type": "heading",
     "level": 3,
     "metadata": {},
     "source": [
      "Credible intervals"
     ]
    },
    {
     "cell_type": "markdown",
     "metadata": {},
     "source": [
      "We might also want to get, say, 95% credible intervals on our parameters. We will use a [greedy binning algorithm](http://en.wikipedia.org/wiki/Bin_packing_problem#First-fit_algorithm) to get the 95% credible intervals from a histogram of the data."
     ]
    },
    {
     "cell_type": "code",
     "collapsed": false,
     "input": [
      "# a function to get the credible intervals using a greedy binning method\n",
      "def credible_interval(dsamples, ci):\n",
      "    n, binedges = np.histogram(dsamples, bins=100)\n",
      "    dbins = binedges[1]-binedges[0] # width of a histogram bin\n",
      "    bins = binedges[0:-1]+dbins/2. # centres of bins\n",
      "\n",
      "    histIndices=np.argsort(n)[::-1]  # indices of the points of the histogram in decreasing order\n",
      "\n",
      "    frac = 0.0\n",
      "    j = 0\n",
      "    for i in histIndices:\n",
      "        frac += float(n[i])/float(len(dsamples))\n",
      "        j = j+1\n",
      "        if frac >= ci:\n",
      "            break\n",
      "\n",
      "    return (np.min(bins[histIndices[:j]]), np.max(bins[histIndices[:j]]))\n",
      "        \n",
      "# get 95% credible interval for m\n",
      "minterval = credible_interval(nsamples[-Ns:,0], 0.95)\n",
      "\n",
      "# get 95% credible interval for c\n",
      "cinterval = credible_interval(nsamples[-Ns:,1], 0.95)\n",
      "\n",
      "# now reproduce the above plot with these 95% confidence intervals included\n",
      "# define a function to produce a patch to fill in the interval\n",
      "def intervalpatch(binedges, nbin, interval):\n",
      "    lowi = np.arange(len(binedges))[binedges>interval[0]][0]\n",
      "    highi = np.arange(len(binedges))[binedges<interval[1]][-1]\n",
      "    binv = [interval[0]]\n",
      "    nv = [nbin[lowi-1]]\n",
      "    for j in range(lowi, highi+1):\n",
      "        binv.append(binedges[j])\n",
      "        binv.append(binedges[j])\n",
      "        nv.append(nbin[j-1])\n",
      "        nv.append(nbin[j])\n",
      "    binv.append(interval[1])\n",
      "    nv.append(nbin[highi])\n",
      "    \n",
      "    return binv, nv\n",
      "\n",
      "fig = pl.figure(figsize=(6,8), dpi=150)\n",
      "\n",
      "pl.subplot(2,1,1)\n",
      "n, binedges, patch = pl.hist(nsamples[-Ns:,0], bins=25, normed=True, histtype='step')\n",
      "\n",
      "ax = pl.gca()\n",
      "pl.plot([m, m], [0., ax.get_ylim()[1]], 'k--', lw=2, label='True') # plot true value of m\n",
      "pl.plot([nsamples[imax,0], nsamples[imax,0]], [0., ax.get_ylim()[1]], 'g--', lw=2, label='Max. pdf') # plot maximum posterior value\n",
      "\n",
      "# get the patch positions for filling confidence intervals\n",
      "binv, nv = intervalpatch(binedges, n, minterval)\n",
      "\n",
      "# fill in the confidence intervals\n",
      "pl.fill_between(binv, nv, np.zeros(len(nv)), facecolor='green', alpha=0.5, edgecolor='none')\n",
      "#pl.legend(loc='best', fancybox=True, framealpha=0.3, prop={'size': 14})\n",
      "pl.xlabel('$m$', fontsize=16)\n",
      "pl.ylabel('$p(m|d,I)$', fontsize=16)\n",
      "pl.ylim(0., ax.get_ylim()[1])\n",
      "\n",
      "# plot the marginalised posterior of c, p(c|d,I)\n",
      "pl.subplot(2,1,2)\n",
      "n, binedges, patch = pl.hist(nsamples[-Ns:,1], bins=25, normed=True, histtype='step')\n",
      "binmids = binedges[:-1]+(binedges[1]-binedges[0])/2.\n",
      "ax = pl.gca()\n",
      "pl.plot([c, c], [0., ax.get_ylim()[1]], 'k--', lw=2) # plot true value of c\n",
      "pl.plot([nsamples[imax,1], nsamples[imax,1]], [0., ax.get_ylim()[1]], 'g--', lw=2) # plot maximum posterior value\n",
      "\n",
      "# get the patch positions for filling confidence intervals\n",
      "binv, nv = intervalpatch(binedges, n, cinterval)\n",
      "\n",
      "# fill in the confidence intervals\n",
      "pl.fill_between(binv, nv, np.zeros(len(nv)), facecolor='green', alpha=0.5, edgecolor='none')\n",
      "pl.xlabel('$c$', fontsize=16)\n",
      "pl.ylabel('$p(c|d,I)$', fontsize=16)\n",
      "pl.ylim(0., ax.get_ylim()[1])\n",
      "\n",
      "pl.tight_layout()"
     ],
     "language": "python",
     "metadata": {},
     "outputs": [
      {
       "metadata": {},
       "output_type": "display_data",
       "png": "[encoded data removed]",
       "text": [
        "<matplotlib.figure.Figure at 0x7fe17c5adcd0>"
       ]
      }
     ],
     "prompt_number": 11
    }
   ],
   "metadata": {}
  }
 ]
}